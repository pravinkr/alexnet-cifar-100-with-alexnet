{
  "nbformat": 4,
  "nbformat_minor": 0,
  "metadata": {
    "colab": {
      "name": "cifar-100-with-Alexnet.ipynb",
      "provenance": [],
      "collapsed_sections": [],
      "machine_shape": "hm",
      "include_colab_link": true
    },
    "kernelspec": {
      "name": "python3",
      "display_name": "Python 3"
    },
    "accelerator": "GPU"
  },
  "cells": [
    {
      "cell_type": "markdown",
      "metadata": {
        "id": "view-in-github",
        "colab_type": "text"
      },
      "source": [
        "<a href=\"https://colab.research.google.com/github/pravinkr/alexnet-cifar-100-with-alexnet/blob/master/cifar_100_with_Alexnet.ipynb\" target=\"_parent\"><img src=\"https://colab.research.google.com/assets/colab-badge.svg\" alt=\"Open In Colab\"/></a>"
      ]
    },
    {
      "cell_type": "code",
      "metadata": {
        "id": "0uoD7EUdjgXP",
        "colab_type": "code",
        "colab": {}
      },
      "source": [
        "#Simple CNN model for CIFAR-10 dataset\n",
        "import numpy as np\n",
        "\n",
        "# Simple CNN model for CIFAR-10\n",
        "import numpy as np\n",
        "import os\n",
        "from keras.datasets import cifar10, cifar100\n",
        "from keras.models import Sequential\n",
        "from keras.layers import Dense, Conv2D\n",
        "from keras.layers import Dropout\n",
        "from keras.layers import Flatten\n",
        "from keras.constraints import maxnorm\n",
        "from keras.optimizers import SGD, Adam\n",
        "from keras.layers.convolutional import Convolution2D\n",
        "from keras.layers.convolutional import MaxPooling2D\n",
        "from keras.callbacks import ModelCheckpoint, LearningRateScheduler\n",
        "from keras.callbacks import ReduceLROnPlateau\n",
        "from keras.callbacks import EarlyStopping\n",
        "from keras.regularizers import l2\n",
        "from keras import backend as K\n",
        "\n",
        "from keras.utils import np_utils\n",
        "import matplotlib.pyplot as plt\n",
        "from keras.preprocessing.image import ImageDataGenerator\n",
        "%matplotlib inline\n",
        "\n",
        "import skimage\n",
        "from skimage.util import img_as_ubyte\n"
      ],
      "execution_count": 0,
      "outputs": []
    },
    {
      "cell_type": "code",
      "metadata": {
        "id": "k34XYTn_gbVF",
        "colab_type": "code",
        "colab": {
          "base_uri": "https://localhost:8080/",
          "height": 51
        },
        "outputId": "35a2a495-b828-43e1-e691-d2961f009fb2"
      },
      "source": [
        "#Defining Variables\n",
        "\n",
        "#Data set information\n",
        "DATASET = 'cifar-100'\n",
        "#DATASET = 'cifar-100'\n",
        "input_shape=(32,32,3)\n",
        "\n",
        "if DATASET == 'cifar-10':\n",
        "  num_classes = 10\n",
        "elif DATASET == 'cifar-100':\n",
        "  num_classes = 100\n",
        "\n",
        "#Model Parameters\n",
        "\n",
        "model_type = 'Alexnet'\n",
        "#model_type = 'Resnet'\n",
        "\n",
        "epochs = 25\n",
        "lrate = 0.01\n",
        "decay = lrate/epochs\n",
        "batch_size = 32\n",
        "\n",
        "data_augmentation = True\n",
        "flow_from_dir = False\n",
        "\n",
        "subtract_mean = True\n",
        "seed = 7\n",
        "np.random.seed(seed)\n",
        "\n",
        "validate_dir = os.path.join(\"data\",\"test\")\n",
        "train_dir = os.path.join(\"data\",\"train\")\n",
        "\n",
        "# Prepare model model saving directory.\n",
        "save_dir = os.path.join(os.getcwd(), 'saved_models')\n",
        "\n",
        "#model_name = 'cifar10_%s_model.{epoch:03d}.h5' % model_type\n",
        "model_name = DATASET+'_'+'%s_model.{epoch:03d}.h5' % model_type\n",
        "\n",
        "if not os.path.isdir(save_dir):\n",
        "    os.makedirs(save_dir)\n",
        "filepath = os.path.join(save_dir, model_name)\n",
        "print(\"Model Type: \",model_type)\n",
        "print(\"Model File: \",filepath)"
      ],
      "execution_count": 24,
      "outputs": [
        {
          "output_type": "stream",
          "text": [
            "Model Type:  Alexnet\n",
            "Model File:  /content/saved_models/cifar-100_Alexnet_model.{epoch:03d}.h5\n"
          ],
          "name": "stdout"
        }
      ]
    },
    {
      "cell_type": "code",
      "metadata": {
        "id": "BUmkHwlR4Bex",
        "colab_type": "code",
        "colab": {}
      },
      "source": [
        "if flow_from_dir:\n",
        "  if DATASET == 'cifar-10':\n",
        "    %pip install cifar2png\n",
        "    %cifar2png cifar10 \"data\""
      ],
      "execution_count": 0,
      "outputs": []
    },
    {
      "cell_type": "code",
      "metadata": {
        "id": "pJ39ZC-BXg37",
        "colab_type": "code",
        "outputId": "831779ad-99de-4713-c3cd-9afbcb5baaae",
        "colab": {
          "base_uri": "https://localhost:8080/",
          "height": 302
        }
      },
      "source": [
        "if not flow_from_dir:\n",
        "  #load data\n",
        "  if DATASET == 'cifar-10':\n",
        "    (X_train, y_train),(X_test,y_test) = cifar10.load_data()\n",
        "    X_train.shape, X_test.shape, X_train.shape[1:],X_train.dtype\n",
        "  elif DATASET == 'cifar-100':\n",
        "    (X_train, y_train),(X_test,y_test) = cifar100.load_data()\n",
        "    X_train.shape, X_test.shape, X_train.shape[1:],X_train.dtype\n",
        "\n",
        "  #Plot data\n",
        "  for i in range(0,9):\n",
        "    plt.subplot(330+1+i)\n",
        "    plt.imshow(X_train[i])\n",
        "  plt.show() \n",
        "  \n"
      ],
      "execution_count": 26,
      "outputs": [
        {
          "output_type": "stream",
          "text": [
            "Downloading data from https://www.cs.toronto.edu/~kriz/cifar-100-python.tar.gz\n",
            "169009152/169001437 [==============================] - 11s 0us/step\n"
          ],
          "name": "stdout"
        },
        {
          "output_type": "display_data",
          "data": {
            "image/png": "[encoded data removed]",
            "text/plain": [
              "<Figure size 432x288 with 9 Axes>"
            ]
          },
          "metadata": {
            "tags": []
          }
        }
      ]
    },
    {
      "cell_type": "code",
      "metadata": {
        "id": "R_4A1KRAhfbe",
        "colab_type": "code",
        "colab": {}
      },
      "source": [
        "def convert_to_imagenet_size(images):\n",
        "  tmp_images = []\n",
        "  for image in images:\n",
        "    image = skimage.transform.resize(image,(224,224),mode='constant')\n",
        "    image = img_as_ubyte(image)\n",
        "    tmp_images.append(image)\n",
        "  return np.array(tmp_images)"
      ],
      "execution_count": 0,
      "outputs": []
    },
    {
      "cell_type": "code",
      "metadata": {
        "id": "QVJcPP50W2ri",
        "colab_type": "code",
        "colab": {
          "base_uri": "https://localhost:8080/",
          "height": 34
        },
        "outputId": "038c2bd7-0444-4eac-b5e8-5010d50d4368"
      },
      "source": [
        "#Data Normalization\n",
        "if not flow_from_dir:\n",
        "  if not data_augmentation:\n",
        "    X_train = X_train.astype('float32')\n",
        "    X_test = X_test.astype('float32')\n",
        "    X_train = X_train/255.\n",
        "    X_test = X_test/255.\n",
        "\n",
        "    if subtract_mean:\n",
        "      X_train_mean = np.mean(X_train)\n",
        "      X_train -= X_train_mean\n",
        "      X_test_mean = np.mean(X_test)\n",
        "      X_test -= X_test_mean\n",
        "\n",
        "  print(y_train.shape, y_test.shape)"
      ],
      "execution_count": 28,
      "outputs": [
        {
          "output_type": "stream",
          "text": [
            "(50000, 1) (10000, 1)\n"
          ],
          "name": "stdout"
        }
      ]
    },
    {
      "cell_type": "code",
      "metadata": {
        "id": "XerWb6T3YK-x",
        "colab_type": "code",
        "outputId": "bdd3b9db-7b5d-448b-f9ad-6c5850855138",
        "colab": {
          "base_uri": "https://localhost:8080/",
          "height": 34
        }
      },
      "source": [
        "if not flow_from_dir:\n",
        "  y_train = np_utils.to_categorical(y_train)\n",
        "  y_test = np_utils.to_categorical(y_test)\n",
        "  print(y_train.shape, y_test.shape)"
      ],
      "execution_count": 29,
      "outputs": [
        {
          "output_type": "stream",
          "text": [
            "(50000, 100) (10000, 100)\n"
          ],
          "name": "stdout"
        }
      ]
    },
    {
      "cell_type": "code",
      "metadata": {
        "id": "PS86-ZpEZMUY",
        "colab_type": "code",
        "outputId": "89a52bf1-d9f3-42f5-8c19-f69d5bb2f2da",
        "colab": {
          "base_uri": "https://localhost:8080/",
          "height": 34
        }
      },
      "source": [
        "#num_classes = y_train.shape[1]\n",
        "#input_shape=X_train.shape[1:]\n",
        "\n",
        "input_shape,num_classes"
      ],
      "execution_count": 30,
      "outputs": [
        {
          "output_type": "execute_result",
          "data": {
            "text/plain": [
              "((32, 32, 3), 100)"
            ]
          },
          "metadata": {
            "tags": []
          },
          "execution_count": 30
        }
      ]
    },
    {
      "cell_type": "code",
      "metadata": {
        "id": "hXFuLmd6bjpY",
        "colab_type": "code",
        "colab": {}
      },
      "source": [
        "#Define Alexnet Model\n",
        "def AlexnetModel(input_shape,num_classes):\n",
        "  model = Sequential()\n",
        "  model.add(Conv2D(filters=96,kernel_size=(3,3),strides=(4,4),input_shape=input_shape, activation='relu'))\n",
        "  model.add(MaxPooling2D(pool_size=(2,2),strides=(2,2)))\n",
        "  model.add(Conv2D(256,(5,5),padding='same',activation='relu'))\n",
        "  model.add(MaxPooling2D(pool_size=(2,2),strides=(2,2)))\n",
        "  model.add(Conv2D(384,(3,3),padding='same',activation='relu'))\n",
        "  model.add(Conv2D(384,(3,3),padding='same',activation='relu'))\n",
        "  model.add(Conv2D(256,(3,3),padding='same',activation='relu'))\n",
        "  model.add(MaxPooling2D(pool_size=(2,2),strides=(2,2)))\n",
        "\n",
        "  model.add(Flatten())\n",
        "  model.add(Dense(4096, activation='relu'))\n",
        "  model.add(Dropout(0.4))\n",
        "  model.add(Dense(4096, activation='relu'))\n",
        "  model.add(Dropout(0.4))\n",
        "  model.add(Dense(num_classes,activation='softmax'))\n",
        "\n",
        "  #model.compile(optimizer='adam',loss='categorical_crossentropy',metrics=['accuracy'])\n",
        "\n",
        "  #model.summary()\n",
        "  return model"
      ],
      "execution_count": 0,
      "outputs": []
    },
    {
      "cell_type": "code",
      "metadata": {
        "id": "eRNzvi-qZXvl",
        "colab_type": "code",
        "colab": {}
      },
      "source": [
        "def get_model(input_shape,num_classes):\n",
        "  # Create the model - Normal model with CNN, dropouts and MaxPooling.\n",
        "  # This model gives accuracy of 77% on the test set after 25 epochs\n",
        "\n",
        "  model = Sequential()\n",
        "\n",
        "  #model.add(Conv2D(32,(3,3),input_shape=(32,32,3),padding='same',activation='relu'))\n",
        "  model.add(Conv2D(32,(3,3),input_shape=input_shape,padding='same',activation='relu'))\n",
        "  model.add(Dropout(0.2))\n",
        "\n",
        "  model.add(Conv2D(32,(3,3),activation='relu',padding='same'))\n",
        "  model.add(MaxPooling2D(pool_size=(2,2)))\n",
        "\n",
        "  model.add(Conv2D(64,(3,3),activation='relu',padding='same'))\n",
        "  model.add(Dropout(0.2))\n",
        "\n",
        "  model.add(Conv2D(64,(3,3),activation='relu',padding='same'))\n",
        "  model.add(MaxPooling2D(pool_size=(2,2)))\n",
        "\n",
        "  model.add(Conv2D(128,(3,3),activation='relu',padding='same'))\n",
        "  model.add(Dropout(0.2))\n",
        "\n",
        "  model.add(Conv2D(128,(3,3),activation='relu',padding='same'))\n",
        "  model.add(MaxPooling2D(pool_size=(2,2)))\n",
        "\n",
        "  model.add(Flatten())\n",
        "  model.add(Dropout(0.2))\n",
        "\n",
        "  model.add(Dense(1024,activation='relu'))\n",
        "  model.add(Dropout(0.2))\n",
        "\n",
        "  model.add(Dense(512,activation='relu'))\n",
        "  model.add(Dropout(0.2))\n",
        "\n",
        "  model.add(Dense(num_classes,activation='softmax'))\n",
        "\n",
        "  return model\n",
        "\n"
      ],
      "execution_count": 0,
      "outputs": []
    },
    {
      "cell_type": "code",
      "metadata": {
        "id": "p2cGLs6n9l0L",
        "colab_type": "code",
        "colab": {}
      },
      "source": [
        "def lr_schedule(epoch):\n",
        "    \"\"\"Learning Rate Schedule\n",
        "\n",
        "    Learning rate is scheduled to be reduced after 80, 120, 160, 180 epochs.\n",
        "    Called automatically every epoch as part of callbacks during training.\n",
        "\n",
        "    # Arguments\n",
        "        epoch (int): The number of epochs\n",
        "\n",
        "    # Returns\n",
        "        lr (float32): learning rate\n",
        "    \"\"\"\n",
        "    lr = 1e-3\n",
        "    if epoch > 180:\n",
        "        lr *= 0.5e-3\n",
        "    elif epoch > 160:\n",
        "        lr *= 1e-3\n",
        "    elif epoch > 120:\n",
        "        lr *= 1e-2\n",
        "    elif epoch > 80:\n",
        "        lr *= 1e-1\n",
        "    print('Learning rate: ', lr)\n",
        "    return lr\n"
      ],
      "execution_count": 0,
      "outputs": []
    },
    {
      "cell_type": "code",
      "metadata": {
        "id": "sdnE9Sd0-NbF",
        "colab_type": "code",
        "colab": {}
      },
      "source": [
        "# Prepare callbacks for model saving and for learning rate adjustment.\n",
        "\n",
        "early_stopping = EarlyStopping(monitor='val_loss', min_delta=0.001, patience=5, verbose=0, mode='auto', baseline=None, restore_best_weights=True)\n",
        "\n",
        "checkpoint = ModelCheckpoint(filepath=filepath,\n",
        "                             monitor='val_acc',\n",
        "                             verbose=1,\n",
        "                             save_best_only=True)\n",
        "\n",
        "lr_scheduler = LearningRateScheduler(lr_schedule)\n",
        "\n",
        "lr_reducer = ReduceLROnPlateau(factor=np.sqrt(0.1),\n",
        "                               cooldown=0,\n",
        "                               patience=5,\n",
        "                               min_lr=0.5e-6)\n",
        "\n",
        "callbacks = [checkpoint, lr_reducer, lr_scheduler,early_stopping]\n"
      ],
      "execution_count": 0,
      "outputs": []
    },
    {
      "cell_type": "code",
      "metadata": {
        "id": "AbLu2lefac_h",
        "colab_type": "code",
        "outputId": "26eb18c2-8aad-472c-bb8b-a24abd13208c",
        "colab": {
          "base_uri": "https://localhost:8080/",
          "height": 663
        }
      },
      "source": [
        "#model = get_model(input_shape,num_classes)\n",
        "if model_type == 'Alexnet':\n",
        "  #input_shape = (224,224,3)\n",
        "  model = AlexnetModel(input_shape,num_classes)\n",
        "else:\n",
        "  model = get_model(input_shape,num_classes)\n",
        "\n",
        "# Compile model\n",
        "\n",
        "#optimizer = SGD(lr=lrate, momentum=0.9, decay=decay, nesterov=False)\n",
        "optimizer = Adam(lr=0.001, beta_1=0.9, beta_2=0.999, amsgrad=False)\n",
        "model.compile(loss= 'categorical_crossentropy' , optimizer=optimizer, metrics=[ 'accuracy' ])\n",
        "print(\"Model Summary of \",model_type)\n",
        "print(model.summary())\n",
        "\n"
      ],
      "execution_count": 35,
      "outputs": [
        {
          "output_type": "stream",
          "text": [
            "Model Summary of  Alexnet\n",
            "Model: \"sequential_2\"\n",
            "_________________________________________________________________\n",
            "Layer (type)                 Output Shape              Param #   \n",
            "=================================================================\n",
            "conv2d_6 (Conv2D)            (None, 8, 8, 96)          2688      \n",
            "_________________________________________________________________\n",
            "max_pooling2d_4 (MaxPooling2 (None, 4, 4, 96)          0         \n",
            "_________________________________________________________________\n",
            "conv2d_7 (Conv2D)            (None, 4, 4, 256)         614656    \n",
            "_________________________________________________________________\n",
            "max_pooling2d_5 (MaxPooling2 (None, 2, 2, 256)         0         \n",
            "_________________________________________________________________\n",
            "conv2d_8 (Conv2D)            (None, 2, 2, 384)         885120    \n",
            "_________________________________________________________________\n",
            "conv2d_9 (Conv2D)            (None, 2, 2, 384)         1327488   \n",
            "_________________________________________________________________\n",
            "conv2d_10 (Conv2D)           (None, 2, 2, 256)         884992    \n",
            "_________________________________________________________________\n",
            "max_pooling2d_6 (MaxPooling2 (None, 1, 1, 256)         0         \n",
            "_________________________________________________________________\n",
            "flatten_2 (Flatten)          (None, 256)               0         \n",
            "_________________________________________________________________\n",
            "dense_4 (Dense)              (None, 4096)              1052672   \n",
            "_________________________________________________________________\n",
            "dropout_3 (Dropout)          (None, 4096)              0         \n",
            "_________________________________________________________________\n",
            "dense_5 (Dense)              (None, 4096)              16781312  \n",
            "_________________________________________________________________\n",
            "dropout_4 (Dropout)          (None, 4096)              0         \n",
            "_________________________________________________________________\n",
            "dense_6 (Dense)              (None, 100)               409700    \n",
            "=================================================================\n",
            "Total params: 21,958,628\n",
            "Trainable params: 21,958,628\n",
            "Non-trainable params: 0\n",
            "_________________________________________________________________\n",
            "None\n"
          ],
          "name": "stdout"
        }
      ]
    },
    {
      "cell_type": "code",
      "metadata": {
        "id": "AIEd9V4KMYR7",
        "colab_type": "code",
        "outputId": "8c4d4d0d-8204-4937-c0a6-597f494a2bc7",
        "colab": {
          "base_uri": "https://localhost:8080/",
          "height": 1000
        }
      },
      "source": [
        "if data_augmentation:\n",
        "\tprint('Using real-time data augmentation.')\n",
        "\t# This will do preprocessing and realtime data augmentation:\n",
        "\tdatagen = ImageDataGenerator(\n",
        "        featurewise_center=True,  # set input mean to 0 over the dataset\n",
        "        samplewise_center=False,  # set each sample mean to 0\n",
        "        featurewise_std_normalization=True,  # divide inputs by std of the dataset\n",
        "        samplewise_std_normalization=False,  # divide each input by its std\n",
        "        zca_whitening=False,  # apply ZCA whitening\n",
        "        zca_epsilon=1e-06,  # epsilon for ZCA whitening\n",
        "        rotation_range=20,  # randomly rotate images in the range (degrees, 0 to 180)\n",
        "        # randomly shift images horizontally (fraction of total width)\n",
        "        width_shift_range=0.2,\n",
        "        # randomly shift images vertically (fraction of total height)\n",
        "        height_shift_range=0.2,\n",
        "        shear_range=0.,  # set range for random shear\n",
        "        zoom_range=0.,  # set range for random zoom\n",
        "        channel_shift_range=0.,  # set range for random channel shifts\n",
        "        # set mode for filling points outside the input boundaries\n",
        "        fill_mode='nearest',\n",
        "        cval=0.,  # value used for fill_mode = \"constant\"\n",
        "        horizontal_flip=True,  # randomly flip images\n",
        "        vertical_flip=False,  # randomly flip images\n",
        "        # set rescaling factor (applied before any other transformation)\n",
        "        rescale=None,\n",
        "        # set function that will be applied on each input\n",
        "        preprocessing_function=None,\n",
        "        # image data format, either \"channels_first\" or \"channels_last\"\n",
        "        data_format=None,\n",
        "        # fraction of images reserved for validation (strictly between 0 and 1)\n",
        "        validation_split=0.0)\n",
        "\n",
        "    # Compute quantities required for feature-wise normalization\n",
        "    # (std, mean, and principal components if ZCA whitening is applied).\n",
        "\n",
        "\n",
        "if not flow_from_dir:\n",
        "\tif not data_augmentation:\n",
        "\t\tprint('Not using data augmentation.')\n",
        "\t\thistory = model.fit(X_train, y_train,\n",
        "          batch_size=batch_size,\n",
        "          epochs=epochs,\n",
        "          validation_data=(X_test, y_test),\n",
        "          shuffle=True,\n",
        "          callbacks=callbacks)\n",
        "\telse:   \n",
        "\t\tprint(\"model using data from downloaded dataset in memoory\")\n",
        "\t\tdatagen.fit(X_train)\n",
        "\t\t# Fit the model on the batches generated by datagen.flow().\n",
        "\t\thistory = model.fit_generator(datagen.flow(X_train, y_train,\n",
        "                                 batch_size=batch_size),\n",
        "                                 epochs=epochs,\n",
        "                                 validation_data=datagen.flow((X_test, y_test),batch_size=batch_size),\n",
        "                                 workers=4,\n",
        "                                 callbacks=callbacks)\n",
        "  \n",
        "\tscores = model.evaluate(X_test, y_test, verbose=1)\n",
        "\n",
        "else:\n",
        "\t# generator for reading train data from folder\n",
        "\n",
        "\tprint('Model fit using flow from directory')\n",
        "\n",
        "\n",
        "\ttrain_generator = datagen.flow_from_directory(\n",
        "      train_dir,\n",
        "      target_size = (224, 224),\n",
        "      color_mode = 'rgb',\n",
        "      batch_size = batch_size,\n",
        "      class_mode = 'categorical',\n",
        "      shuffle=False,\n",
        "      seed=42\n",
        "      )\n",
        "\t#\n",
        "\t# generator for reading validation data from folder\n",
        "\n",
        "\tvalidation_generator = datagen.flow_from_directory(\n",
        "      validate_dir,\n",
        "      target_size = (224, 224),\n",
        "      color_mode = 'rgb',\n",
        "      batch_size = batch_size,\n",
        "      class_mode = 'categorical',\n",
        "      shuffle=False,\n",
        "      seed=42)\n",
        "  \n",
        "\tSTEP_SIZE_TRAIN=train_generator.n//train_generator.batch_size\n",
        "\tSTEP_SIZE_VALID=validation_generator.n//validation_generator.batch_size\n",
        "  \n",
        "\thistory = model.fit_generator(generator=train_generator,\n",
        "                steps_per_epoch=STEP_SIZE_TRAIN,\n",
        "                validation_data=validation_generator,\n",
        "                validation_steps=STEP_SIZE_VALID,\n",
        "                epochs=10,\n",
        "                callbacks=callbacks\n",
        "                )\n",
        "  \n",
        "\tscores = model.evaluate_generator(generator=validation_generator,\n",
        "                           steps=STEP_SIZE_VALID, verbose=1)\n",
        "\n",
        "\t#Predict the output\n",
        "\t''' Use when to Predict the output\n",
        "\tSTEP_SIZE_TEST=test_generator.n//test_generator.batch_size\n",
        "\ttest_generator.reset()\n",
        "\tpred=model.predict_generator(test_generator,\n",
        "                               steps=STEP_SIZE_TEST,\n",
        "                               verbose=1)\n",
        "\n",
        "\t'''\n",
        "# Save model and weights\n",
        "\n",
        "\n",
        "\n",
        "# Score trained model.\n",
        "\n",
        "print('Test loss:', scores[0])\n",
        "print('Test accuracy:', scores[1])"
      ],
      "execution_count": 36,
      "outputs": [
        {
          "output_type": "stream",
          "text": [
            "Using real-time data augmentation.\n",
            "model using data from downloaded dataset in memoory\n",
            "Epoch 1/25\n",
            "Learning rate:  0.001\n",
            "1563/1563 [==============================] - 38s 24ms/step - loss: 4.3076 - acc: 0.0292 - val_loss: 4.1507 - val_acc: 0.0397\n",
            "\n",
            "Epoch 00001: val_acc improved from -inf to 0.03970, saving model to /content/saved_models/cifar-100_Alexnet_model.001.h5\n",
            "Epoch 2/25\n",
            "Learning rate:  0.001\n",
            "1563/1563 [==============================] - 36s 23ms/step - loss: 3.9797 - acc: 0.0668 - val_loss: 3.8334 - val_acc: 0.0925\n",
            "\n",
            "Epoch 00002: val_acc improved from 0.03970 to 0.09250, saving model to /content/saved_models/cifar-100_Alexnet_model.002.h5\n",
            "Epoch 3/25\n",
            "Learning rate:  0.001\n",
            "1563/1563 [==============================] - 36s 23ms/step - loss: 3.8111 - acc: 0.0943 - val_loss: 3.7175 - val_acc: 0.1106\n",
            "\n",
            "Epoch 00003: val_acc improved from 0.09250 to 0.11060, saving model to /content/saved_models/cifar-100_Alexnet_model.003.h5\n",
            "Epoch 4/25\n",
            "Learning rate:  0.001\n",
            "1563/1563 [==============================] - 36s 23ms/step - loss: 3.7091 - acc: 0.1113 - val_loss: 3.6271 - val_acc: 0.1232\n",
            "\n",
            "Epoch 00004: val_acc improved from 0.11060 to 0.12320, saving model to /content/saved_models/cifar-100_Alexnet_model.004.h5\n",
            "Epoch 5/25\n",
            "Learning rate:  0.001\n",
            "1563/1563 [==============================] - 36s 23ms/step - loss: 3.6267 - acc: 0.1259 - val_loss: 3.6014 - val_acc: 0.1337\n",
            "\n",
            "Epoch 00005: val_acc improved from 0.12320 to 0.13370, saving model to /content/saved_models/cifar-100_Alexnet_model.005.h5\n",
            "Epoch 6/25\n",
            "Learning rate:  0.001\n",
            "1563/1563 [==============================] - 36s 23ms/step - loss: 3.5699 - acc: 0.1382 - val_loss: 3.4739 - val_acc: 0.1595\n",
            "\n",
            "Epoch 00006: val_acc improved from 0.13370 to 0.15950, saving model to /content/saved_models/cifar-100_Alexnet_model.006.h5\n",
            "Epoch 7/25\n",
            "Learning rate:  0.001\n",
            "1563/1563 [==============================] - 36s 23ms/step - loss: 3.5051 - acc: 0.1513 - val_loss: 3.4265 - val_acc: 0.1726\n",
            "\n",
            "Epoch 00007: val_acc improved from 0.15950 to 0.17260, saving model to /content/saved_models/cifar-100_Alexnet_model.007.h5\n",
            "Epoch 8/25\n",
            "Learning rate:  0.001\n",
            "1563/1563 [==============================] - 36s 23ms/step - loss: 3.4501 - acc: 0.1623 - val_loss: 3.3766 - val_acc: 0.1695\n",
            "\n",
            "Epoch 00008: val_acc did not improve from 0.17260\n",
            "Epoch 9/25\n",
            "Learning rate:  0.001\n",
            "1563/1563 [==============================] - 37s 23ms/step - loss: 3.3994 - acc: 0.1732 - val_loss: 3.3455 - val_acc: 0.1883\n",
            "\n",
            "Epoch 00009: val_acc improved from 0.17260 to 0.18830, saving model to /content/saved_models/cifar-100_Alexnet_model.009.h5\n",
            "Epoch 10/25\n",
            "Learning rate:  0.001\n",
            "1563/1563 [==============================] - 37s 24ms/step - loss: 3.3710 - acc: 0.1764 - val_loss: 3.3129 - val_acc: 0.1955\n",
            "\n",
            "Epoch 00010: val_acc improved from 0.18830 to 0.19550, saving model to /content/saved_models/cifar-100_Alexnet_model.010.h5\n",
            "Epoch 11/25\n",
            "Learning rate:  0.001\n",
            "1563/1563 [==============================] - 36s 23ms/step - loss: 3.3454 - acc: 0.1821 - val_loss: 3.3169 - val_acc: 0.1897\n",
            "\n",
            "Epoch 00011: val_acc did not improve from 0.19550\n",
            "Epoch 12/25\n",
            "Learning rate:  0.001\n",
            "1563/1563 [==============================] - 36s 23ms/step - loss: 3.3235 - acc: 0.1879 - val_loss: 3.2847 - val_acc: 0.1924\n",
            "\n",
            "Epoch 00012: val_acc did not improve from 0.19550\n",
            "Epoch 13/25\n",
            "Learning rate:  0.001\n",
            "1563/1563 [==============================] - 36s 23ms/step - loss: 3.2866 - acc: 0.1942 - val_loss: 3.2433 - val_acc: 0.2043\n",
            "\n",
            "Epoch 00013: val_acc improved from 0.19550 to 0.20430, saving model to /content/saved_models/cifar-100_Alexnet_model.013.h5\n",
            "Epoch 14/25\n",
            "Learning rate:  0.001\n",
            "1563/1563 [==============================] - 36s 23ms/step - loss: 3.2691 - acc: 0.1985 - val_loss: 3.2310 - val_acc: 0.2073\n",
            "\n",
            "Epoch 00014: val_acc improved from 0.20430 to 0.20730, saving model to /content/saved_models/cifar-100_Alexnet_model.014.h5\n",
            "Epoch 15/25\n",
            "Learning rate:  0.001\n",
            "1563/1563 [==============================] - 37s 24ms/step - loss: 3.2624 - acc: 0.1989 - val_loss: 3.2073 - val_acc: 0.2054\n",
            "\n",
            "Epoch 00015: val_acc did not improve from 0.20730\n",
            "Epoch 16/25\n",
            "Learning rate:  0.001\n",
            "1563/1563 [==============================] - 36s 23ms/step - loss: 3.2363 - acc: 0.2049 - val_loss: 3.1864 - val_acc: 0.2195\n",
            "\n",
            "Epoch 00016: val_acc improved from 0.20730 to 0.21950, saving model to /content/saved_models/cifar-100_Alexnet_model.016.h5\n",
            "Epoch 17/25\n",
            "Learning rate:  0.001\n",
            "1563/1563 [==============================] - 35s 23ms/step - loss: 3.2225 - acc: 0.2070 - val_loss: 3.1985 - val_acc: 0.2108\n",
            "\n",
            "Epoch 00017: val_acc did not improve from 0.21950\n",
            "Epoch 18/25\n",
            "Learning rate:  0.001\n",
            "1563/1563 [==============================] - 36s 23ms/step - loss: 3.2081 - acc: 0.2111 - val_loss: 3.2149 - val_acc: 0.2097\n",
            "\n",
            "Epoch 00018: val_acc did not improve from 0.21950\n",
            "Epoch 19/25\n",
            "Learning rate:  0.001\n",
            "1563/1563 [==============================] - 36s 23ms/step - loss: 3.2026 - acc: 0.2125 - val_loss: 3.1571 - val_acc: 0.2235\n",
            "\n",
            "Epoch 00019: val_acc improved from 0.21950 to 0.22350, saving model to /content/saved_models/cifar-100_Alexnet_model.019.h5\n",
            "Epoch 20/25\n",
            "Learning rate:  0.001\n",
            "1563/1563 [==============================] - 36s 23ms/step - loss: 3.1919 - acc: 0.2139 - val_loss: 3.2133 - val_acc: 0.2093\n",
            "\n",
            "Epoch 00020: val_acc did not improve from 0.22350\n",
            "Epoch 21/25\n",
            "Learning rate:  0.001\n",
            "1563/1563 [==============================] - 36s 23ms/step - loss: 3.1721 - acc: 0.2173 - val_loss: 3.1553 - val_acc: 0.2205\n",
            "\n",
            "Epoch 00021: val_acc did not improve from 0.22350\n",
            "Epoch 22/25\n",
            "Learning rate:  0.001\n",
            "1563/1563 [==============================] - 36s 23ms/step - loss: 3.1670 - acc: 0.2198 - val_loss: 3.1656 - val_acc: 0.2190\n",
            "\n",
            "Epoch 00022: val_acc did not improve from 0.22350\n",
            "Epoch 23/25\n",
            "Learning rate:  0.001\n",
            "1563/1563 [==============================] - 36s 23ms/step - loss: 3.1614 - acc: 0.2220 - val_loss: 3.1243 - val_acc: 0.2341\n",
            "\n",
            "Epoch 00023: val_acc improved from 0.22350 to 0.23410, saving model to /content/saved_models/cifar-100_Alexnet_model.023.h5\n",
            "Epoch 24/25\n",
            "Learning rate:  0.001\n",
            "1563/1563 [==============================] - 37s 23ms/step - loss: 3.1451 - acc: 0.2237 - val_loss: 3.1086 - val_acc: 0.2315\n",
            "\n",
            "Epoch 00024: val_acc did not improve from 0.23410\n",
            "Epoch 25/25\n",
            "Learning rate:  0.001\n",
            "1563/1563 [==============================] - 36s 23ms/step - loss: 3.1443 - acc: 0.2258 - val_loss: 3.0924 - val_acc: 0.2358\n",
            "\n",
            "Epoch 00025: val_acc improved from 0.23410 to 0.23580, saving model to /content/saved_models/cifar-100_Alexnet_model.025.h5\n",
            "10000/10000 [==============================] - 1s 101us/step\n",
            "Test loss: 15.537999655151367\n",
            "Test accuracy: 0.0326\n"
          ],
          "name": "stdout"
        }
      ]
    },
    {
      "cell_type": "code",
      "metadata": {
        "id": "T95kj0_iP54_",
        "colab_type": "code",
        "outputId": "467a1b8d-654f-4e64-a9b2-9fb721067324",
        "colab": {
          "base_uri": "https://localhost:8080/",
          "height": 590
        }
      },
      "source": [
        "# list all data in history\n",
        "print(history.history.keys())\n",
        "# summarize history for accuracy\n",
        "plt.plot(history.history['acc'])\n",
        "plt.plot(history.history['val_acc'])\n",
        "plt.title('model accuracy')\n",
        "plt.ylabel('accuracy')\n",
        "plt.xlabel('epoch')\n",
        "plt.legend(['train', 'test'], loc='upper left')\n",
        "plt.show()\n",
        "# summarize history for loss\n",
        "plt.plot(history.history['loss'])\n",
        "plt.plot(history.history['val_loss'])\n",
        "plt.title('model loss')\n",
        "plt.ylabel('loss')\n",
        "plt.xlabel('epoch')\n",
        "plt.legend(['train', 'test'], loc='upper left')\n",
        "plt.show()"
      ],
      "execution_count": 37,
      "outputs": [
        {
          "output_type": "stream",
          "text": [
            "dict_keys(['val_loss', 'val_acc', 'loss', 'acc', 'lr'])\n"
          ],
          "name": "stdout"
        },
        {
          "output_type": "display_data",
          "data": {
            "image/png": "[encoded data removed]",
            "text/plain": [
              "<Figure size 432x288 with 1 Axes>"
            ]
          },
          "metadata": {
            "tags": []
          }
        },
        {
          "output_type": "display_data",
          "data": {
            "image/png": "[encoded data removed]",
            "text/plain": [
              "<Figure size 432x288 with 1 Axes>"
            ]
          },
          "metadata": {
            "tags": []
          }
        }
      ]
    }
  ]
}